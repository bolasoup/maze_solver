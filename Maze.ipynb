{
 "cells": [
  {
   "cell_type": "markdown",
   "metadata": {
    "id": "Id3ddAXmriVm"
   },
   "source": [
    "# Search: Solving a Maze Using a Goal-based Agent\n",
    "\n",
    "Student Name: Christian Melendez\n",
    "\n",
    "I have used the following AI tools: None\n",
    "\n",
    "I understand that my submission needs to be my own work: CM\n",
    "\n",
    "## Instructions\n",
    "\n",
    "Total Points: Undergrads 100 + 5 bonus / Graduate students 110\n",
    "\n",
    "Complete this notebook. Use the provided notebook cells and insert additional code and markdown cells as needed. Submit the completely rendered notebook as a HTML file.\n",
    "\n",
    "\n",
    "## Introduction\n",
    "\n",
    "The agent has a map of the maze it is in and the environment is assumed to be **deterministic, discrete, and known.** The agent must use the map to plan a path through the maze from the starting location $S$ to the goal location $G$.  This is a planing exercise for a goal-based agent, so you do not need to implement an environment, just use the map to search for a path. Once the plan is made, the agent in a deterministic environment (i.e., the transition function is deterministic with the outcome of each state/action pair fixed and no randomness) can just follow the path and does not need to care about the percepts.\n",
    "This is also called an **[open-loop system](https://en.wikipedia.org/wiki/Open-loop_controller).**\n",
    "The execution phase is trivial and we do not implement it in this exercise.\n",
    "\n",
    "Tree search algorithm implementations that you find online and used in general algorithms courses have often a different aim. These algorithms assume that you already have a tree in memory. We are interested in dynamically creating a search tree with the aim of finding a good/the best path from the root noteto the goal state. Follow the pseudo code presented in the text book (and replicated in the slides) closely. Ideally, we would like to search only a small part of the maze, i.e., create a search tree with as few nodes as possible.\n",
    "\n",
    "Several mazes for this exercise are stored as text files. Here is the small example maze:"
   ]
  },
  {
   "cell_type": "code",
   "execution_count": 1,
   "metadata": {
    "id": "bhIiNfcvriVo",
    "outputId": "e3b21abf-dcf0-46c2-f5b1-e99721eea416",
    "colab": {
     "base_uri": "https://localhost:8080/"
    },
    "executionInfo": {
     "status": "ok",
     "timestamp": 1709514936394,
     "user_tz": 360,
     "elapsed": 104,
     "user": {
      "displayName": "Christian Melendez",
      "userId": "04539809835687662514"
     }
    },
    "ExecuteTime": {
     "end_time": "2024-03-05T10:11:32.121877100Z",
     "start_time": "2024-03-05T10:11:32.106239100Z"
    }
   },
   "outputs": [
    {
     "name": "stdout",
     "output_type": "stream",
     "text": [
      "XXXXXXXXXXXXXXXXXXXXXX\n",
      "X XX        X X      X\n",
      "X    XXXXXX X XXXXXX X\n",
      "XXXXXX     S  X      X\n",
      "X    X XXXXXX XX XXXXX\n",
      "X XXXX X         X   X\n",
      "X        XXX XXX   X X\n",
      "XXXXXXXXXX    XXXXXX X\n",
      "XG         XX        X\n",
      "XXXXXXXXXXXXXXXXXXXXXX\n"
     ]
    }
   ],
   "source": [
    "with open(\"mazes/small_maze.txt\", \"r\") as f:\n",
    "    maze_str = f.read()\n",
    "print(maze_str)"
   ]
  },
  {
   "cell_type": "markdown",
   "metadata": {
    "id": "KICvqCmariVp"
   },
   "source": [
    "__Note:__ The mazes above contains cycles and therefore the state space may not form proper trees unless cycles are prevented. Therfore, you will need to deal with cycle detection in your code."
   ]
  },
  {
   "cell_type": "markdown",
   "metadata": {
    "id": "-DDZ4smjriVp"
   },
   "source": [
    "## Parsing and pretty printing the maze\n",
    "\n",
    "The maze can also be displayed in color using code in the module [maze_helper.py](maze_helper.py). The code parses the string representing the maze and converts it into a `numpy` 2d array which you can use in your implementation. Position are represented as a 2-tuple of the form `(row, col)`."
   ]
  },
  {
   "cell_type": "code",
   "execution_count": 2,
   "metadata": {
    "tags": [],
    "id": "bXBqN5UJriVp",
    "outputId": "a2aa48a3-0f6a-434a-c5e6-1a671aeb94cb",
    "colab": {
     "base_uri": "https://localhost:8080/",
     "height": 383
    },
    "executionInfo": {
     "status": "error",
     "timestamp": 1709514977034,
     "user_tz": 360,
     "elapsed": 99,
     "user": {
      "displayName": "Christian Melendez",
      "userId": "04539809835687662514"
     }
    },
    "ExecuteTime": {
     "end_time": "2024-03-05T10:11:32.166224100Z",
     "start_time": "2024-03-05T10:11:32.122877700Z"
    }
   },
   "outputs": [
    {
     "name": "stdout",
     "output_type": "stream",
     "text": [
      "Position(0,0): X\n",
      "Position(8,1): G\n"
     ]
    }
   ],
   "source": [
    "import maze_helper as mh\n",
    "\n",
    "maze = mh.parse_maze(maze_str)\n",
    "\n",
    "# look at a position in the maze by subsetting the 2d array\n",
    "print(\"Position(0,0):\", maze[0, 0])\n",
    "\n",
    "# there is also a helper function called `look(maze, pos)` available\n",
    "# which uses a 2-tuple for the position.\n",
    "print(\"Position(8,1):\", mh.look(maze, (8, 1)))"
   ]
  },
  {
   "cell_type": "markdown",
   "metadata": {
    "id": "Z_Od_Uq5riVq"
   },
   "source": [
    "A helper function to visualize the maze is also available."
   ]
  },
  {
   "cell_type": "code",
   "execution_count": 3,
   "metadata": {
    "id": "29ca0stLriVq",
    "outputId": "76086007-2edc-4b31-f35f-b071792e3ec4",
    "colab": {
     "base_uri": "https://localhost:8080/",
     "height": 176
    },
    "executionInfo": {
     "status": "error",
     "timestamp": 1709515431450,
     "user_tz": 360,
     "elapsed": 123,
     "user": {
      "displayName": "Christian Melendez",
      "userId": "04539809835687662514"
     }
    },
    "ExecuteTime": {
     "end_time": "2024-03-05T10:11:32.360405100Z",
     "start_time": "2024-03-05T10:11:32.190246700Z"
    }
   },
   "outputs": [
    {
     "data": {
      "text/plain": "<Figure size 640x480 with 1 Axes>",
      "image/png": "[encoded data removed]"
     },
     "metadata": {
      "image/png": {
       "width": 533,
       "height": 268
      }
     },
     "output_type": "display_data"
    }
   ],
   "source": [
    "%matplotlib inline\n",
    "%config InlineBackend.figure_format = 'retina'\n",
    "# use higher resolution images in notebook\n",
    "\n",
    "mh.show_maze(maze)"
   ]
  },
  {
   "cell_type": "markdown",
   "metadata": {
    "id": "Rh5pblv_riVq"
   },
   "source": [
    "Find the position of the start and the goal using the helper function `find_pos()`"
   ]
  },
  {
   "cell_type": "code",
   "execution_count": 4,
   "metadata": {
    "id": "5wzonsvjriVq",
    "outputId": "67bc223f-2dcf-4d28-a7d8-459f13e392a1",
    "colab": {
     "base_uri": "https://localhost:8080/",
     "height": 159
    },
    "executionInfo": {
     "status": "error",
     "timestamp": 1709515447551,
     "user_tz": 360,
     "elapsed": 131,
     "user": {
      "displayName": "Christian Melendez",
      "userId": "04539809835687662514"
     }
    },
    "ExecuteTime": {
     "end_time": "2024-03-05T10:11:32.373874800Z",
     "start_time": "2024-03-05T10:11:32.358402900Z"
    }
   },
   "outputs": [
    {
     "name": "stdout",
     "output_type": "stream",
     "text": [
      "Start location: (3, 11)\n",
      "Goal location: (8, 1)\n"
     ]
    }
   ],
   "source": [
    "print(\"Start location:\", mh.find_pos(maze, what = \"S\"))\n",
    "print(\"Goal location:\", mh.find_pos(maze, what = \"G\"))"
   ]
  },
  {
   "cell_type": "markdown",
   "metadata": {
    "id": "l6MuQpSrriVr"
   },
   "source": [
    "Helper function documentation."
   ]
  },
  {
   "cell_type": "code",
   "execution_count": 5,
   "metadata": {
    "id": "zHUaLUP2riVr",
    "executionInfo": {
     "status": "aborted",
     "timestamp": 1709514490343,
     "user_tz": 360,
     "elapsed": 3,
     "user": {
      "displayName": "Christian Melendez",
      "userId": "04539809835687662514"
     }
    },
    "ExecuteTime": {
     "end_time": "2024-03-05T10:11:32.472664700Z",
     "start_time": "2024-03-05T10:11:32.374874500Z"
    }
   },
   "outputs": [
    {
     "name": "stdout",
     "output_type": "stream",
     "text": [
      "Help on module maze_helper:\n",
      "\n",
      "NAME\n",
      "    maze_helper\n",
      "\n",
      "DESCRIPTION\n",
      "    Code for the Maze Assignment by Michael Hahsler\n",
      "    Usage: \n",
      "        import maze_helper as mh\n",
      "        mh.show_some_mazes()\n",
      "\n",
      "FUNCTIONS\n",
      "    find_pos(maze, what='S')\n",
      "        Find start/goal in a maze and returns the first one. \n",
      "        Caution: there is no error checking!\n",
      "        \n",
      "        Parameters:\n",
      "        maze: a array with characters prodced by parse_maze()\n",
      "        what: the letter to be found ('S' for start and 'G' for goal)\n",
      "        \n",
      "        Returns:\n",
      "        a tupple (x, y) for the found position.\n",
      "    \n",
      "    look(maze, pos)\n",
      "        Look at the label of a square with the position as an array of the form (x, y).\n",
      "    \n",
      "    parse_maze(maze_str)\n",
      "        Convert a maze as a string into a 2d numpy array\n",
      "    \n",
      "    show_maze(maze, fontsize=10)\n",
      "        Display a (parsed) maze as an image.\n",
      "    \n",
      "    welcome()\n",
      "        Welcome message.\n",
      "\n",
      "FILE\n",
      "    c:\\users\\bola\\documents\\smu\\spring 2024\\cs7320 - artificial intelligence\\maze_helper.py\n"
     ]
    }
   ],
   "source": [
    "help(mh)"
   ]
  },
  {
   "cell_type": "markdown",
   "metadata": {
    "id": "cUH97W6SriVr"
   },
   "source": [
    "## Tree structure\n",
    "\n",
    "Here is an implementation of the basic node structure for the search algorithms (see Fig 3.7 on page 73). I have added a method that extracts the path from the root node to the current node. It can be used to get the path when the search is completed."
   ]
  },
  {
   "cell_type": "code",
   "execution_count": 6,
   "metadata": {
    "id": "4mYF3xrsriVr",
    "executionInfo": {
     "status": "aborted",
     "timestamp": 1709514490343,
     "user_tz": 360,
     "elapsed": 3,
     "user": {
      "displayName": "Christian Melendez",
      "userId": "04539809835687662514"
     }
    },
    "ExecuteTime": {
     "end_time": "2024-03-05T10:11:32.472664700Z",
     "start_time": "2024-03-05T10:11:32.390169600Z"
    }
   },
   "outputs": [],
   "source": [
    "class Node:\n",
    "    def __init__(self, pos, parent, action, cost):\n",
    "        self.pos = tuple(pos)    # the state; positions are (row,col)\n",
    "        self.parent = parent     # reference to parent node. None means root node.\n",
    "        self.action = action     # action used in the transition function (root node has None)\n",
    "        self.cost = cost         # for uniform cost this is the depth. It is also g(n) for A* search\n",
    "        self.dist = 0            # used to sort manhattan distance later, for a* it will be the cost + manhattan distance\n",
    "\n",
    "    def __str__(self):\n",
    "        return f\"Node - pos = {self.pos}; action = {self.action}; cost = {self.cost}\"\n",
    "\n",
    "    def get_path_from_root(self):\n",
    "        \"\"\"returns nodes on the path from the root to the current node.\"\"\"\n",
    "        node = self\n",
    "        path = [node]\n",
    "\n",
    "        while not node.parent is None:\n",
    "            node = node.parent\n",
    "            path.append(node)\n",
    "\n",
    "        path.reverse()\n",
    "\n",
    "        return(path)\n",
    "    \n",
    "    # I added the expand function to help with my search algorithms. It's straightforward, look in the 4 directions and expand if it's not an X.\n",
    "    def expand(self, maze):\n",
    "        node_list = []\n",
    "        if mh.look(maze, (self.pos[0] - 1 ,self.pos[1])) != 'X':\n",
    "            north_node = Node(pos=(self.pos[0] - 1 ,self.pos[1]),parent=self, action='North', cost=self.cost + 1)\n",
    "            node_list.append(north_node)\n",
    "        if mh.look(maze, (self.pos[0] + 1 ,self.pos[1])) != 'X':\n",
    "            south_node = Node(pos=(self.pos[0] + 1 ,self.pos[1]),parent=self, action='South', cost=self.cost + 1)\n",
    "            node_list.append(south_node)\n",
    "        if mh.look(maze, (self.pos[0] ,self.pos[1] - 1)) != 'X':\n",
    "            west_node = Node(pos=(self.pos[0] ,self.pos[1] - 1),parent=self, action='West', cost=self.cost + 1)\n",
    "            node_list.append(west_node)   \n",
    "        if mh.look(maze, (self.pos[0] ,self.pos[1] + 1)) != 'X':\n",
    "            east_node = Node(pos=(self.pos[0] ,self.pos[1] + 1),parent=self, action='East', cost=self.cost + 1)\n",
    "            node_list.append(east_node)    \n",
    "        return node_list"
   ]
  },
  {
   "cell_type": "markdown",
   "metadata": {
    "id": "P5efywPVriVr"
   },
   "source": [
    "If needed, then you can add more fields to the class like the heuristic value $h(n)$ or $f(n)$.\n",
    "\n",
    "Examples for how to create and use a tree and information on memory management can be found [here](../HOWTOs/trees.ipynb)."
   ]
  },
  {
   "cell_type": "markdown",
   "metadata": {
    "id": "jBD7R0XeriVr"
   },
   "source": [
    "# Tasks\n",
    "\n",
    "The goal is to:\n",
    "\n",
    "1. Implement the following search algorithms for solving different mazes:\n",
    "\n",
    "    - Breadth-first search (BFS)\n",
    "    - Depth-first search (DFS)\n",
    "    - Greedy best-first search (GBFS)\n",
    "    - A* search\n",
    "\n",
    "2. Run each of the above algorithms on the\n",
    "    - [small maze](small_maze.txt),\n",
    "    - [medium maze](medium_maze.txt),\n",
    "    - [large maze](large_maze.txt),\n",
    "    - [open maze](open_maze.txt),\n",
    "    - [wall maze](wall_maze.txt),\n",
    "    - [loops maze](loops_maze.txt),\n",
    "    - [empty maze](empty_maze.txt), and\n",
    "    - [empty 2_maze](empty_2_maze.txt).\n",
    "    \n",
    "3. For each problem instance and each search algorithm, report the following in a table:\n",
    "\n",
    "    - The solution and its path cost\n",
    "    - Total number of nodes expanded\n",
    "    - Maximum tree depth\n",
    "    - Maximum size of the frontier\n",
    "\n",
    "4. Display each solution by marking every maze square (or state) visited and the squares on the final path.\n",
    "\n",
    "## General [10 Points]\n",
    "\n",
    "1. Make sure that you use the latest version of this notebook. Sync your forked repository and pull the latest revision.\n",
    "2. Your implementation can use libraries like math, numpy, scipy, but not libraries that implement inteligent agents or complete search algorithms. Try to keep the code simple! In this course, we want to learn about the algorithms and we often do not need to use object-oriented design.\n",
    "3. You notebook needs to be formated professionally.\n",
    "    - Add additional markdown blocks for your description, comments in the code, add tables and use mathplotlib to produce charts where appropriate\n",
    "    - Do not show debugging output or include an excessive amount of output.\n",
    "    - Check that your PDF file is readable. For example, long lines are cut off in the PDF file. You don't have control over page breaks, so do not worry about these.\n",
    "4. Document your code. Add a short discussion of how your implementation works and your design choices."
   ]
  },
  {
   "cell_type": "markdown",
   "metadata": {
    "id": "fL6GqJFTriVr"
   },
   "source": [
    "## Task 1: Defining the search problem and determining the problem size [10 Points]\n",
    "\n",
    "Define the components of the search problem:\n",
    "\n",
    "* Initial state\n",
    "* Actions\n",
    "* Transition model\n",
    "* Goal state\n",
    "* Path cost\n",
    "\n",
    "Use verbal descriptions, variables and equations as appropriate.\n",
    "\n",
    "*Note:* You can swich the next block from code to Markdown and use formatting."
   ]
  },
  {
   "cell_type": "markdown",
   "source": [
    "Initial State : The initial state is the starting and goal location along with the walls and paths of the maze.\n",
    "Actions : Move North, South, East, West.\n",
    "Transition Model : A function of the current state and action and the resulting state. In this case It is T(state, action) = new_state where state and new_state are positions.\n",
    "Goal State : The goal state is the user reaching the 'G' on the maze with a minimalized path cost.\n",
    "Path Cost : The path cost is the number of spaces walked through to reach the goal."
   ],
   "metadata": {
    "collapsed": false
   }
  },
  {
   "cell_type": "markdown",
   "metadata": {
    "id": "c9huJAt5riVs"
   },
   "source": [
    "Give some estimates for the problem size:\n",
    "\n",
    "* $n$: state space size\n",
    "* $d$: depth of the optimal solution\n",
    "* $m$: maximum depth of tree\n",
    "* $b$: maximum branching factor\n",
    "\n",
    "Describe how you would determin these values for a given maze."
   ]
  },
  {
   "cell_type": "markdown",
   "source": [
    "State space size : This is equal to |v| + |e| where v = all the nodes (available spaces for the agent to be including start and goal spaces) and e is all the distinct state/action pairs. Therefore, our state space size is roughly 5 * the number of available spaces.\n",
    "Depth of the optimal solution : This is equal to the path cost.\n",
    "Maximum depth of tree : This is infinite because there are possible loops.\n",
    "Maximum branching factor : This is 4. "
   ],
   "metadata": {
    "collapsed": false
   }
  },
  {
   "cell_type": "markdown",
   "metadata": {
    "id": "YX1KOAG1riVt"
   },
   "source": [
    "## Task 2: Uninformed search: Breadth-first and depth-first [40 Points]\n",
    "\n",
    "Implement these search strategies. Follow the pseudocode in the textbook/slides. You can use the tree structure shown above to extract the final path from your solution.\n",
    "\n",
    "__Notes:__\n",
    "* You can find maze solving implementations online that use the map to store information. While this is an effective idea for this two-dimensional navigation problem, it typically cannot be used for other search problems. Therefore, follow the textbook and only store information in the tree created during search, and use the `reached` and `frontier` data structures.\n",
    "* DSF can be implemented using the BFS tree search algorithm and simply changing the order in which the frontier is expanded (this is equivalent to best-first search with path length as the criterion to expand the next node). However, to take advantage of the significantly smaller memory footprint of DFS, you need to implement DFS in a different way without a `reached` data structure and by releasing the memory for nodes that are not needed anymore.\n",
    "* If DFS does not use a `reached` data structure, then its cycle checking abilities are limited. Remember, that DSF is incomplete if cycles cannot be prevented. You will see in your experiments that open spaces are a problem."
   ]
  },
  {
   "cell_type": "markdown",
   "source": [
    "I created my BFS algorithm as best as I could following the textbook to a T. I had to make some changes due to the fact that 2 nodes with same position but different costs were not read as the same. "
   ],
   "metadata": {
    "collapsed": false
   }
  },
  {
   "cell_type": "code",
   "execution_count": 7,
   "metadata": {
    "id": "ycziXA_-riVt",
    "executionInfo": {
     "status": "aborted",
     "timestamp": 1709514490469,
     "user_tz": 360,
     "elapsed": 2,
     "user": {
      "displayName": "Christian Melendez",
      "userId": "04539809835687662514"
     }
    },
    "ExecuteTime": {
     "end_time": "2024-03-05T10:11:32.472664700Z",
     "start_time": "2024-03-05T10:11:32.404525Z"
    }
   },
   "outputs": [],
   "source": [
    "def bfs(maze) :\n",
    "    node = Node(pos=mh.find_pos(maze, what = \"S\"),parent='None', action='None', cost=0)\n",
    "    goal = mh.find_pos(maze, what = \"G\")\n",
    "    if node.pos == goal : return node\n",
    "    frontier =[]\n",
    "    reached = []\n",
    "    frontier.append(node)\n",
    "    reached.append(node)\n",
    "    #count = 0\n",
    "    while frontier:\n",
    "        #reached.sort(key=lambda x: x.cost, reverse=True)\n",
    "        #print(reached[0].cost)\n",
    "        #count+=1\n",
    "        #if len(frontier) + len(reached) > count: count = len(frontier) + len(reached)\n",
    "        #if len(frontier) > count: count = len(frontier)\n",
    "        #print(count)\n",
    "        current_node = frontier.pop(0)\n",
    "        for child in current_node.expand(maze):\n",
    "            if child.pos == goal : return child\n",
    "            continue_loop = False\n",
    "            for reached_nodes in reached:\n",
    "                if reached_nodes.pos == child.pos:\n",
    "                    continue_loop = True\n",
    "                    break\n",
    "            if continue_loop : continue\n",
    "            reached.append(child)\n",
    "            frontier.append(child)\n",
    "    return reached\n",
    "    "
   ]
  },
  {
   "cell_type": "code",
   "execution_count": 8,
   "outputs": [
    {
     "data": {
      "text/plain": "19"
     },
     "execution_count": 8,
     "metadata": {},
     "output_type": "execute_result"
    }
   ],
   "source": [
    "x = bfs(maze)\n",
    "x.cost"
   ],
   "metadata": {
    "collapsed": false,
    "ExecuteTime": {
     "end_time": "2024-03-05T10:11:32.472664700Z",
     "start_time": "2024-03-05T10:11:32.423541200Z"
    }
   }
  },
  {
   "cell_type": "markdown",
   "source": [
    "The add_to_frontier function is for depth first search. It checks if a node is already in the frontier by doing the following:\n",
    "1. Check if the frontier is empty, if so then add away.\n",
    "2. Check if the new node would match an existing node and if so keep the one with a lower cost.\n",
    "3. If the new node does not match an existing node then just add it to the stack."
   ],
   "metadata": {
    "collapsed": false
   }
  },
  {
   "cell_type": "code",
   "execution_count": 9,
   "outputs": [],
   "source": [
    "def add_to_frontier(frontier_stack, node_to_check) :\n",
    "    if not frontier_stack:\n",
    "        frontier_stack.append(node_to_check)\n",
    "        return frontier_stack\n",
    "    i = 0\n",
    "    for nodes in frontier_stack:\n",
    "        if nodes.pos == node_to_check.pos:\n",
    "            if nodes.cost > node_to_check.cost:\n",
    "                frontier_stack.pop(i)\n",
    "                frontier_stack.append(node_to_check)\n",
    "            return frontier_stack\n",
    "        i+=1\n",
    "    frontier_stack.append(node_to_check)\n",
    "    return frontier_stack"
   ],
   "metadata": {
    "collapsed": false,
    "ExecuteTime": {
     "end_time": "2024-03-05T10:11:32.473665200Z",
     "start_time": "2024-03-05T10:11:32.438555Z"
    }
   }
  },
  {
   "cell_type": "markdown",
   "source": [
    "I also followed the textbook to the best of my abilities. The reached list is also just positions here and not whole nodes. "
   ],
   "metadata": {
    "collapsed": false
   }
  },
  {
   "cell_type": "code",
   "execution_count": 10,
   "outputs": [],
   "source": [
    "def dfs(maze, max_depth) :\n",
    "    frontier = []\n",
    "    reached = []\n",
    "    node = Node(pos=mh.find_pos(maze, what = \"S\"),parent='None', action='None', cost=0)\n",
    "    goal = mh.find_pos(maze, what = \"G\")\n",
    "    #count = 0\n",
    "    if node.pos == goal : return node\n",
    "    frontier.append(node)\n",
    "    result = 'Failure'\n",
    "    while frontier:\n",
    "        #count+=1\n",
    "        #if len(frontier) + len(reached) > count: count = len(frontier) + len(reached)\n",
    "        #if len(frontier) > count: count = len(frontier)\n",
    "        \n",
    "        current_node = frontier.pop()\n",
    "        #if current_node.cost > count: count = current_node.cost\n",
    "        #print(count)\n",
    "        if current_node.pos == goal : return current_node\n",
    "        if current_node.cost > max_depth : \n",
    "            result = 'cutoff'\n",
    "        elif current_node.pos not in reached:\n",
    "            reached.append(current_node.pos)\n",
    "            for child in current_node.expand(maze):\n",
    "                frontier = add_to_frontier(frontier, child)\n",
    "    return result"
   ],
   "metadata": {
    "collapsed": false,
    "ExecuteTime": {
     "end_time": "2024-03-05T10:11:32.473665200Z",
     "start_time": "2024-03-05T10:11:32.454647700Z"
    }
   }
  },
  {
   "cell_type": "code",
   "execution_count": 11,
   "outputs": [
    {
     "data": {
      "text/plain": "37"
     },
     "execution_count": 11,
     "metadata": {},
     "output_type": "execute_result"
    }
   ],
   "source": [
    "y = dfs(maze, 10000)\n",
    "y.cost"
   ],
   "metadata": {
    "collapsed": false,
    "ExecuteTime": {
     "end_time": "2024-03-05T10:11:32.488679200Z",
     "start_time": "2024-03-05T10:11:32.469662400Z"
    }
   }
  },
  {
   "cell_type": "markdown",
   "metadata": {
    "id": "UZMu1OacriVt"
   },
   "source": [
    "How does BFS and DFS deal with loops (cycles)?"
   ]
  },
  {
   "cell_type": "markdown",
   "source": [
    "For my implementations here they both dealt with cycles using the reached list. If a node has already been reached then we don't add it to the frontier. However, the DFS also has to deal with nodes already existing in the frontier. What I did there is already described above when I explain my add_to_frontier function. Long story short, if the node has already appeared in the frontier then keep the lowest cost version of it."
   ],
   "metadata": {
    "collapsed": false
   }
  },
  {
   "cell_type": "markdown",
   "metadata": {
    "id": "M_t8wkuwriVt"
   },
   "source": [
    "Are your implementations complete and optimal? Explain why. What is the time and space complexity of each of **your** implementations?"
   ]
  },
  {
   "cell_type": "markdown",
   "source": [
    "My BFS is complete. It will find any existing solutions. DFS is not complete because I would have to set max_depth to be large enough to find a solution.\n",
    "My BFS is optimized. It found the best solution and as you'll see later on it continues to do so. DFS itself is not optimal since it just returns the first solution it finds and not the best one. \n",
    "The space and time complexity for my BFS are both O(b^d^), where b is the branching factor. My DFS has a space complexity of O(bl) and time complexity of O(b^l^) where l is my depth limit.\n",
    "## Task 3: Informed search: Implement greedy best-first search and A* search  [20 Points]\n",
    "\n",
    "You can use the map to estimate the distance from your current position to the goal using the Manhattan distance (see https://en.wikipedia.org/wiki/Taxicab_geometry) as a heuristic function. Both algorithms are based on Best-First search which requires only a small change from the BFS algorithm you have already implemented (see textbook/slides)."
   ],
   "metadata": {
    "collapsed": false
   }
  },
  {
   "cell_type": "code",
   "execution_count": 12,
   "outputs": [],
   "source": [
    "def manhattan_dist(goal_node, current_node) :\n",
    "    return abs(goal_node.pos[0] - current_node.pos[0]) + abs(goal_node.pos[1] - current_node.pos[1])"
   ],
   "metadata": {
    "collapsed": false,
    "ExecuteTime": {
     "end_time": "2024-03-05T10:11:32.544229500Z",
     "start_time": "2024-03-05T10:11:32.486676800Z"
    }
   }
  },
  {
   "cell_type": "code",
   "execution_count": 13,
   "metadata": {
    "id": "MLk0mS6xriVt",
    "executionInfo": {
     "status": "aborted",
     "timestamp": 1709514490469,
     "user_tz": 360,
     "elapsed": 1,
     "user": {
      "displayName": "Christian Melendez",
      "userId": "04539809835687662514"
     }
    },
    "ExecuteTime": {
     "end_time": "2024-03-05T10:11:32.544229500Z",
     "start_time": "2024-03-05T10:11:32.503194300Z"
    }
   },
   "outputs": [],
   "source": [
    "def greedy_bfs(maze) :\n",
    "    node = Node(pos=mh.find_pos(maze, what = \"S\"),parent='None', action='None', cost=0)\n",
    "    goal_node = Node(pos=mh.find_pos(maze, what = \"G\"),parent='None', action='None', cost=0)\n",
    "    node.dist = manhattan_dist(goal_node, node)\n",
    "    if node.pos == goal_node.pos : return node\n",
    "    frontier =[]\n",
    "    reached = []\n",
    "    frontier.append(node)\n",
    "    reached.append(node)\n",
    "    #count = 0\n",
    "    while frontier:\n",
    "        #reached.sort(key=lambda x: x.cost, reverse=True)\n",
    "        #print(reached[0].cost)\n",
    "        #count+=1\n",
    "        #if len(frontier) + len(reached) > count: count = len(frontier) + len(reached)\n",
    "        #if len(frontier) > count: count = len(frontier)\n",
    "        #print(count)\n",
    "        frontier.sort(key=lambda x: x.dist)\n",
    "        current_node = frontier.pop(0)\n",
    "        for child in current_node.expand(maze):\n",
    "            if child.pos == goal_node.pos : return child\n",
    "            child.dist = manhattan_dist(goal_node, child)\n",
    "            i = 0\n",
    "            continue_loop = False\n",
    "            for reached_nodes in reached:\n",
    "                if reached_nodes.pos == child.pos and child.cost < reached_nodes.cost:\n",
    "                    reached[i].cost = child.cost\n",
    "                    frontier.append(child)\n",
    "                    continue_loop = True\n",
    "                    break\n",
    "                elif reached_nodes.pos == child.pos:\n",
    "                    continue_loop = True\n",
    "                    break\n",
    "                i+=1\n",
    "            if continue_loop : continue\n",
    "            reached.append(child)\n",
    "            frontier.append(child)\n",
    "    return reached\n",
    "    "
   ]
  },
  {
   "cell_type": "code",
   "execution_count": 14,
   "outputs": [
    {
     "data": {
      "text/plain": "29"
     },
     "execution_count": 14,
     "metadata": {},
     "output_type": "execute_result"
    }
   ],
   "source": [
    "z = greedy_bfs(maze)\n",
    "z.cost"
   ],
   "metadata": {
    "collapsed": false,
    "ExecuteTime": {
     "end_time": "2024-03-05T10:11:32.544229500Z",
     "start_time": "2024-03-05T10:11:32.515204400Z"
    }
   }
  },
  {
   "cell_type": "code",
   "execution_count": 15,
   "outputs": [],
   "source": [
    "def a_star_bfs(maze) :\n",
    "    node = Node(pos=mh.find_pos(maze, what = \"S\"),parent='None', action='None', cost=0)\n",
    "    goal_node = Node(pos=mh.find_pos(maze, what = \"G\"),parent='None', action='None', cost=0)\n",
    "    node.dist = manhattan_dist(goal_node, node)\n",
    "    if node.pos == goal_node.pos : return node\n",
    "    frontier =[]\n",
    "    reached = []\n",
    "    frontier.append(node)\n",
    "    reached.append(node)\n",
    "    #count = 0\n",
    "    \n",
    "    while frontier:\n",
    "        #reached.sort(key=lambda x: x.cost, reverse=True)\n",
    "        #print(reached[0].cost)\n",
    "        #count+=1\n",
    "        #if len(frontier) + len(reached) > count: count = len(frontier) + len(reached)\n",
    "        #if len(frontier) > count: count = len(frontier)\n",
    "        #print(count)\n",
    "        frontier.sort(key=lambda x: x.dist)\n",
    "        current_node = frontier.pop(0)\n",
    "        for child in current_node.expand(maze):\n",
    "            if child.pos == goal_node.pos : return child\n",
    "            child.dist = manhattan_dist(goal_node, child) + child.cost\n",
    "            i = 0\n",
    "            continue_loop = False\n",
    "            for reached_nodes in reached:\n",
    "                if reached_nodes.pos == child.pos and child.cost < reached_nodes.cost:\n",
    "                    reached[i].cost = child.cost\n",
    "                    frontier.append(child)\n",
    "                    continue_loop = True\n",
    "                    break\n",
    "                elif reached_nodes.pos == child.pos:\n",
    "                    continue_loop = True\n",
    "                    break\n",
    "                i+=1\n",
    "            if continue_loop : continue\n",
    "            reached.append(child)\n",
    "            frontier.append(child)\n",
    "    return reached\n",
    "    "
   ],
   "metadata": {
    "collapsed": false,
    "ExecuteTime": {
     "end_time": "2024-03-05T10:11:32.552240400Z",
     "start_time": "2024-03-05T10:11:32.534221100Z"
    }
   }
  },
  {
   "cell_type": "code",
   "execution_count": 16,
   "outputs": [
    {
     "data": {
      "text/plain": "19"
     },
     "execution_count": 16,
     "metadata": {},
     "output_type": "execute_result"
    }
   ],
   "source": [
    "a = a_star_bfs(maze)\n",
    "a.cost"
   ],
   "metadata": {
    "collapsed": false,
    "ExecuteTime": {
     "end_time": "2024-03-05T10:11:32.562249500Z",
     "start_time": "2024-03-05T10:11:32.548236500Z"
    }
   }
  },
  {
   "cell_type": "markdown",
   "metadata": {
    "id": "nAGZI_UrriVt"
   },
   "source": [
    "Are your implementations complete and optimal? What is the time and space complexity?"
   ]
  },
  {
   "cell_type": "markdown",
   "source": [
    "Both implementations are complete. a* is optimized and returns the same cost for all mazes as my bfs. That being said, Greedy best first search is not optimal.\n",
    "a*'s time and space complexity are exponential. Greedy bfs has a worst case of O(b^m^) for both space and time complexity."
   ],
   "metadata": {
    "collapsed": false
   }
  },
  {
   "cell_type": "markdown",
   "metadata": {
    "id": "3gdgI9y-riVt"
   },
   "source": [
    "## Task 4: Comparison and discussion [20 Points]\n",
    "\n",
    "Run experiments to compare the implemented algorithms.\n",
    "\n",
    "How to deal with issues:\n",
    "\n",
    "* Your implementation returns unexpected results: Try to debug and fix the code. Visualizing the maze, the current path and the frontier after every step is very helpful. If the code still does not work, then mark the result with an asterisk (*) and describe the issue below the table.\n",
    "\n",
    "* Your implementation cannot consistently solve a specific maze and ends up in an infinite loop:\n",
    "    Debug. If it is a shortcoming of the algorithm/implementation, then put \"N/A*\" in the results table and describe why this is happening."
   ]
  },
  {
   "cell_type": "code",
   "execution_count": 17,
   "metadata": {
    "id": "mvez7xZNriVt",
    "executionInfo": {
     "status": "aborted",
     "timestamp": 1709514490470,
     "user_tz": 360,
     "elapsed": 600,
     "user": {
      "displayName": "Christian Melendez",
      "userId": "04539809835687662514"
     }
    },
    "ExecuteTime": {
     "end_time": "2024-03-05T10:11:32.606512400Z",
     "start_time": "2024-03-05T10:11:32.563250700Z"
    }
   },
   "outputs": [
    {
     "data": {
      "text/plain": "74"
     },
     "execution_count": 17,
     "metadata": {},
     "output_type": "execute_result"
    }
   ],
   "source": [
    "maze_list = [\"small_maze.txt\", \"medium_maze.txt\", \"large_maze.txt\", \"open_maze.txt\", \"empty_maze.txt\", \"empty_2_maze.txt\", \"wall_maze.txt\", \"loops_maze.txt\", \"L_maze.txt\"]\n",
    "with open(\"mazes/medium_maze.txt\", \"r\") as f:\n",
    "    maze_str = f.read()\n",
    "maze = mh.parse_maze(maze_str)\n",
    "#x = bfs(maze)\n",
    "#x = dfs(maze, 10000)\n",
    "x = greedy_bfs(maze)\n",
    "#x = a_star_bfs(maze)\n",
    "x.cost"
   ]
  },
  {
   "cell_type": "markdown",
   "metadata": {
    "id": "Y3ia1UL0riVu"
   },
   "source": [
    "Complete the following table for each maze.\n",
    "\n",
    "__Small maze__\n",
    "\n",
    "| algorithm | path cost | # of nodes expanded | max tree depth | max # of nodes in memory | max frontier size |\n",
    "|-----------|-----------|---------------------|----------------|--------------------------|-------------------|\n",
    "| BFS       | 19        | 90                  | 18             | 94                       | 8                 |\n",
    "| DFS       | 37        | 60                  | 37             | 59                       | 22                |\n",
    "| GBS       | 29        | 39                  | 28             | 48                       | 5                 |\n",
    "| A*        | 19        | 53                  | 53             | 65                       | 8                 |\n",
    "\n",
    "__Medium Maze__\n",
    "\n",
    "| algorithm | path cost | # of nodes expanded | max tree depth | max # of nodes in memory | max frontier size |\n",
    "|-----------|-----------|---------------------|----------------|--------------------------|-------------------|\n",
    "| BFS       | 68        | 267                 | 68             | 272                      | 8                 |\n",
    "| DFS       | 130       | 236                 | 130            | 206                      | 62                |\n",
    "| GBS       | 74        | 78                  | 73             | 85                       | 4                 |\n",
    "| A*        | 68        | 50                  | 39             | 55                       | 3                 |\n",
    "\n",
    "__Large Maze__\n",
    "\n",
    "| algorithm | path cost | # of nodes expanded | max tree depth | max # of nodes in memory | max frontier size |\n",
    "|-----------|-----------|---------------------|----------------|--------------------------|-------------------|\n",
    "| BFS       | 210       | 617                 | 210            | 624                      | 8                 |\n",
    "| DFS       | 210       | 686                 | 223            | 514                      | 134               |\n",
    "| GBS       | 210       | 466                 | 209            | 507                      | 21                |\n",
    "| A*        | 210       | 549                 | 209            | 564                      | 12                |\n",
    "\n",
    "__Open Maze__\n",
    "\n",
    "| algorithm | path cost | # of nodes expanded | max tree depth | max # of nodes in memory | max frontier size |\n",
    "|-----------|-----------|---------------------|----------------|--------------------------|-------------------|\n",
    "| BFS       | 54        | 679                 | 53             | 687                      | 25                |\n",
    "| DFS       | 158       | 926                 | 193            | 656                      | 307               |\n",
    "| GBS       | 68        | 89                  | 67             | 218                      | 65                |\n",
    "| A*        | 54        | 534                 | 53             | 576                      | 25                |\n",
    "\n",
    "__Empty Maze__\n",
    "\n",
    "| algorithm | path cost | # of nodes expanded | max tree depth | max # of nodes in memory | max frontier size |\n",
    "|-----------|-----------|---------------------|----------------|--------------------------|-------------------|\n",
    "| BFS       | 14        | 92                  | 14             | 99                       | 12                |\n",
    "| DFS       | 34        | 120                 | 53             | 127                      | 72                |\n",
    "| GBS       | 14        | 14                  | 13             | 67                       | 27                |\n",
    "| A*        | 14        | 62                  | 13             | 121                      | 30                |\n",
    "\n",
    "__Empty 2 Maze__\n",
    "\n",
    "| algorithm | path cost | # of nodes expanded | max tree depth | max # of nodes in memory | max frontier size |\n",
    "|-----------|-----------|---------------------|----------------|--------------------------|-------------------|\n",
    "| BFS       | 14        | 92                  | 14             | 99                       | 12                |\n",
    "| DFS       | 34        | 78                  | 46             | 110                      | 64                |\n",
    "| GBS       | 14        | 14                  | 13             | 67                       | 27                |\n",
    "| A*        | 14        | 62                  | 13             | 121                      | 30                |\n",
    "\n",
    "__Wall Maze__\n",
    "\n",
    "| algorithm | path cost | # of nodes expanded | max tree depth | max # of nodes in memory | max frontier size |\n",
    "|-----------|-----------|---------------------|----------------|--------------------------|-------------------|\n",
    "| BFS       | 14        | 85                  | 14             | 92                       | 11                |\n",
    "| DFS       | 20        | 155                 | 43             | 113                      | 59                |\n",
    "| GBS       | 14        | 14                  | 13             | 67                       | 27                |\n",
    "| A*        | 14        | 55                  | 13             | 114                      | 30                |\n",
    "\n",
    "__Loops Maze__\n",
    "\n",
    "| algorithm | path cost | # of nodes expanded | max tree depth | max # of nodes in memory | max frontier size |\n",
    "|-----------|-----------|---------------------|----------------|--------------------------|-------------------|\n",
    "| BFS       | 23        | 70                  | 22             | 73                       | 8                 |\n",
    "| DFS       | 27        | 48                  | 27             | 52                       | 23                |\n",
    "| GBS       | 23        | 72                  | 22             | 68                       | 9                 |\n",
    "| A*        | 23        | 58                  | 22             | 66                       | 6                 |\n",
    "\n",
    "__L Maze__\n",
    "\n",
    "| algorithm | path cost | # of nodes expanded | max tree depth | max # of nodes in memory | max frontier size |\n",
    "|-----------|-----------|---------------------|----------------|--------------------------|-------------------|\n",
    "| BFS       | 14        | 70                  | 14             | 148                      | 18                |\n",
    "| DFS       | 58        | 179                 | 73             | 190                      | 97                |\n",
    "| GBS       | 20        | 23                  | 19             | 68                       | 23                |\n",
    "| A*        | 14        | 41                  | 13             | 84                       | 22                |\n",
    "..."
   ]
  },
  {
   "cell_type": "markdown",
   "metadata": {
    "id": "Esu8YfvmriVu"
   },
   "source": [
    "Present the results as using charts (see [Python Code Examples/charts and tables](../HOWTOs/charts_and_tables.ipynb))."
   ]
  },
  {
   "cell_type": "code",
   "execution_count": 18,
   "metadata": {
    "id": "7pfcA8wdriVu",
    "executionInfo": {
     "status": "aborted",
     "timestamp": 1709514490470,
     "user_tz": 360,
     "elapsed": 600,
     "user": {
      "displayName": "Christian Melendez",
      "userId": "04539809835687662514"
     }
    },
    "ExecuteTime": {
     "end_time": "2024-03-05T10:11:32.607513400Z",
     "start_time": "2024-03-05T10:11:32.579985100Z"
    }
   },
   "outputs": [],
   "source": [
    "import numpy as np\n",
    "cost_performance = {\n",
    "    \"BFS\" : np.array([19, 68, 210, 54, 14, 14, 14, 23, 14]),\n",
    "    \"DFS\" : np.array([37, 130, 210, 158, 34, 34, 20, 27, 58]),\n",
    "    \"GREEDY\" : np.array([29, 74, 210, 68, 14, 14, 14, 23, 20]),\n",
    "    \"A_STAR\" : np.array([19, 68, 210, 54, 14, 14, 14, 23, 14])\n",
    "}\n",
    "\n",
    "memory_performance = {\n",
    "    \"BFS\" : np.array([94, 272, 624, 687, 99, 99, 92, 73, 148]),\n",
    "    \"DFS\" : np.array([59, 206, 514, 656, 127, 110, 113, 52, 190]),\n",
    "    \"GREEDY\" : np.array([48, 85, 507, 218, 67, 67, 67, 68, 68]),\n",
    "    \"A_STAR\" : np.array([65, 55, 564, 576, 121, 121, 114, 66, 84])\n",
    "}"
   ]
  },
  {
   "cell_type": "code",
   "execution_count": 19,
   "outputs": [
    {
     "name": "stdout",
     "output_type": "stream",
     "text": [
      "Mean performance: [47.77777778 78.66666667 51.77777778 47.77777778]\n"
     ]
    },
    {
     "data": {
      "text/plain": "<Figure size 640x480 with 1 Axes>",
      "image/png": "[encoded data removed]"
     },
     "metadata": {
      "image/png": {
       "width": 559,
       "height": 412
      }
     },
     "output_type": "display_data"
    }
   ],
   "source": [
    "import matplotlib.pyplot as plt\n",
    "mean_performance = np.mean(list(cost_performance.values()), axis = 1)\n",
    "\n",
    "print(f\"Mean performance: {mean_performance}\")\n",
    "\n",
    "plt.bar(cost_performance.keys(), mean_performance)\n",
    "plt.ylabel(\"Mean performance\")\n",
    "plt.show()"
   ],
   "metadata": {
    "collapsed": false,
    "ExecuteTime": {
     "end_time": "2024-03-05T10:11:32.702919500Z",
     "start_time": "2024-03-05T10:11:32.593999200Z"
    }
   }
  },
  {
   "cell_type": "markdown",
   "source": [
    "The graphs of the average costs shows us what we already know. BFS and a* are optimized and constantly return the best solution. Greedy fairs a little bit worse and DFS is hands down the worst."
   ],
   "metadata": {
    "collapsed": false
   }
  },
  {
   "cell_type": "code",
   "execution_count": 20,
   "outputs": [
    {
     "name": "stdout",
     "output_type": "stream",
     "text": [
      "Mean performance: [243.11111111 225.22222222 132.77777778 196.22222222]\n"
     ]
    },
    {
     "data": {
      "text/plain": "<Figure size 640x480 with 1 Axes>",
      "image/png": "[encoded data removed]"
     },
     "metadata": {
      "image/png": {
       "width": 567,
       "height": 412
      }
     },
     "output_type": "display_data"
    }
   ],
   "source": [
    "import matplotlib.pyplot as plt\n",
    "mean_performance = np.mean(list(memory_performance.values()), axis = 1)\n",
    "\n",
    "print(f\"Mean performance: {mean_performance}\")\n",
    "\n",
    "plt.bar(memory_performance.keys(), mean_performance)\n",
    "plt.ylabel(\"Mean performance\")\n",
    "plt.show()"
   ],
   "metadata": {
    "collapsed": false,
    "ExecuteTime": {
     "end_time": "2024-03-05T10:11:32.833883Z",
     "start_time": "2024-03-05T10:11:32.703920800Z"
    }
   }
  },
  {
   "cell_type": "markdown",
   "source": [
    "Unexpectedly, the algorithm named \"greedy\" eats up the least amount of memory on average. While BFS returns optimal solutions it also does the worst on memory making it rough to use depending on your problem or system."
   ],
   "metadata": {
    "collapsed": false
   }
  },
  {
   "cell_type": "markdown",
   "metadata": {
    "id": "DC3pzM4TriVu"
   },
   "source": [
    "Discuss the most important lessons you have learned from implementing the different search strategies."
   ]
  },
  {
   "cell_type": "markdown",
   "source": [
    "Do not get married to any of the search algorithms. They each have their ups and downs whether that be implementation, the need to look out for loops, timing, memory, or optimization. In the real world I'm going to have to be ready to figure out which is the most useful and not just choose a*, which was my personal favorite."
   ],
   "metadata": {
    "collapsed": false
   }
  },
  {
   "cell_type": "markdown",
   "metadata": {
    "id": "HtimNplhriVu"
   },
   "source": [
    "## Advanced task: IDS and Multiple goals\n",
    "\n",
    "* __Graduate students__ need to complete this task [10 points]\n",
    "* __Undergraduate students__ can attempt this as a bonus task [max +5 bonus points].\n",
    "\n",
    "1. Implement IDS (iterative deepening search using DFS)\n",
    "\n",
    "2. Create a few mazes with multiple goals by adding one or two more goals to the medium size maze.\n",
    "Solve the maze with your implementations for DFS, BFS, and IDS. Run experiments to show which implementations find the optimal solution and which do not. Discuss why that is the case."
   ]
  },
  {
   "cell_type": "markdown",
   "source": [
    "## 1 \n",
    "I create the IDS function and then run it using the medium maze. This also helps me prepare for the following steps."
   ],
   "metadata": {
    "collapsed": false
   }
  },
  {
   "cell_type": "code",
   "execution_count": 21,
   "metadata": {
    "id": "J9ByiWWsriVu",
    "executionInfo": {
     "status": "aborted",
     "timestamp": 1709514490470,
     "user_tz": 360,
     "elapsed": 600,
     "user": {
      "displayName": "Christian Melendez",
      "userId": "04539809835687662514"
     }
    },
    "ExecuteTime": {
     "end_time": "2024-03-05T10:11:32.834883500Z",
     "start_time": "2024-03-05T10:11:32.813521Z"
    }
   },
   "outputs": [],
   "source": [
    "def iterative_deepening_search(maze) :\n",
    "    for i in range(10000):\n",
    "        result = dfs(maze, i)\n",
    "        if result != 'cutoff': return result"
   ]
  },
  {
   "cell_type": "code",
   "execution_count": 22,
   "outputs": [
    {
     "data": {
      "text/plain": "68"
     },
     "execution_count": 22,
     "metadata": {},
     "output_type": "execute_result"
    }
   ],
   "source": [
    "with open(\"mazes/medium_maze.txt\", \"r\") as f:\n",
    "    maze_str = f.read()\n",
    "maze = mh.parse_maze(maze_str)\n",
    "x = iterative_deepening_search(maze)\n",
    "x.cost"
   ],
   "metadata": {
    "collapsed": false,
    "ExecuteTime": {
     "end_time": "2024-03-05T10:11:32.976115Z",
     "start_time": "2024-03-05T10:11:32.828877500Z"
    }
   }
  },
  {
   "cell_type": "markdown",
   "source": [
    "## 2\n",
    "I'm creating a dictionary to hold the total costs for each. I will do so using the standard medium maze, and then each of my 3 created mazes."
   ],
   "metadata": {
    "collapsed": false
   }
  },
  {
   "cell_type": "code",
   "execution_count": 23,
   "outputs": [],
   "source": [
    "new_mazes_performance = {\n",
    "    \"BFS\" : np.array([0,0,0,0]),\n",
    "    \"DFS\" : np.array([0,0,0,0]),\n",
    "    \"IDS\" : np.array([0,0,0,0])\n",
    "}\n",
    "new_mazes_performance[\"BFS\"][0] = bfs(maze).cost\n",
    "new_mazes_performance[\"DFS\"][0] = dfs(maze, 10000).cost\n",
    "new_mazes_performance[\"IDS\"][0] = iterative_deepening_search(maze).cost"
   ],
   "metadata": {
    "collapsed": false,
    "ExecuteTime": {
     "end_time": "2024-03-05T10:11:32.978116900Z",
     "start_time": "2024-03-05T10:11:32.890934Z"
    }
   }
  },
  {
   "cell_type": "code",
   "execution_count": 24,
   "outputs": [
    {
     "data": {
      "text/plain": "<Figure size 640x480 with 1 Axes>",
      "image/png": "[encoded data removed]"
     },
     "metadata": {
      "image/png": {
       "width": 553,
       "height": 290
      }
     },
     "output_type": "display_data"
    }
   ],
   "source": [
    "with open(\"mazes/multi_goal.txt\", \"r\") as f:\n",
    "    maze_str = f.read()\n",
    "maze = mh.parse_maze(maze_str)\n",
    "mh.show_maze(maze)"
   ],
   "metadata": {
    "collapsed": false,
    "ExecuteTime": {
     "end_time": "2024-03-05T10:11:33.132274400Z",
     "start_time": "2024-03-05T10:11:32.971110800Z"
    }
   }
  },
  {
   "cell_type": "code",
   "execution_count": 25,
   "outputs": [],
   "source": [
    "new_mazes_performance[\"BFS\"][1] = bfs(maze).cost\n",
    "new_mazes_performance[\"DFS\"][1] = dfs(maze, 10000).cost\n",
    "new_mazes_performance[\"IDS\"][1] = iterative_deepening_search(maze).cost"
   ],
   "metadata": {
    "collapsed": false,
    "ExecuteTime": {
     "end_time": "2024-03-05T10:11:33.145526800Z",
     "start_time": "2024-03-05T10:11:33.131271300Z"
    }
   }
  },
  {
   "cell_type": "code",
   "execution_count": 26,
   "outputs": [
    {
     "data": {
      "text/plain": "<Figure size 640x480 with 1 Axes>",
      "image/png": "[encoded data removed]"
     },
     "metadata": {
      "image/png": {
       "width": 553,
       "height": 290
      }
     },
     "output_type": "display_data"
    }
   ],
   "source": [
    "with open(\"mazes/multi_goal_2.txt\", \"r\") as f:\n",
    "    maze_str = f.read()\n",
    "maze = mh.parse_maze(maze_str)\n",
    "mh.show_maze(maze)"
   ],
   "metadata": {
    "collapsed": false,
    "ExecuteTime": {
     "end_time": "2024-03-05T10:11:33.315873500Z",
     "start_time": "2024-03-05T10:11:33.146527800Z"
    }
   }
  },
  {
   "cell_type": "code",
   "execution_count": 27,
   "outputs": [],
   "source": [
    "new_mazes_performance[\"BFS\"][2] = bfs(maze).cost\n",
    "new_mazes_performance[\"DFS\"][2] = dfs(maze, 10000).cost\n",
    "new_mazes_performance[\"IDS\"][2] = iterative_deepening_search(maze).cost"
   ],
   "metadata": {
    "collapsed": false,
    "ExecuteTime": {
     "end_time": "2024-03-05T10:11:33.397252Z",
     "start_time": "2024-03-05T10:11:33.316874900Z"
    }
   }
  },
  {
   "cell_type": "code",
   "execution_count": 28,
   "outputs": [
    {
     "data": {
      "text/plain": "<Figure size 640x480 with 1 Axes>",
      "image/png": "[encoded data removed]"
     },
     "metadata": {
      "image/png": {
       "width": 553,
       "height": 290
      }
     },
     "output_type": "display_data"
    }
   ],
   "source": [
    "with open(\"mazes/multi_goal_3.txt\", \"r\") as f:\n",
    "    maze_str = f.read()\n",
    "maze = mh.parse_maze(maze_str)\n",
    "mh.show_maze(maze)"
   ],
   "metadata": {
    "collapsed": false,
    "ExecuteTime": {
     "end_time": "2024-03-05T10:11:33.492839Z",
     "start_time": "2024-03-05T10:11:33.332194Z"
    }
   }
  },
  {
   "cell_type": "code",
   "execution_count": 29,
   "outputs": [],
   "source": [
    "new_mazes_performance[\"BFS\"][3] = bfs(maze).cost\n",
    "new_mazes_performance[\"DFS\"][3] = dfs(maze, 10000).cost\n",
    "new_mazes_performance[\"IDS\"][3] = iterative_deepening_search(maze).cost"
   ],
   "metadata": {
    "collapsed": false,
    "ExecuteTime": {
     "end_time": "2024-03-05T10:11:33.509113Z",
     "start_time": "2024-03-05T10:11:33.489836200Z"
    }
   }
  },
  {
   "cell_type": "code",
   "execution_count": 30,
   "outputs": [
    {
     "data": {
      "text/plain": "{'BFS': array([68, 33, 33, 31]),\n 'DFS': array([130,  33,  33,  79]),\n 'IDS': array([68, 33, 33, 31])}"
     },
     "execution_count": 30,
     "metadata": {},
     "output_type": "execute_result"
    }
   ],
   "source": [
    "new_mazes_performance"
   ],
   "metadata": {
    "collapsed": false,
    "ExecuteTime": {
     "end_time": "2024-03-05T10:11:33.604142600Z",
     "start_time": "2024-03-05T10:11:33.506110300Z"
    }
   }
  },
  {
   "cell_type": "markdown",
   "source": [
    "When IDS is used it returns an optimized result but DFS does not. DFS returns the first solution it finds regardless of if it's the best or not, by starting at smaller max_depths IDS stops the DFS algorithm from finding a suboptimal solution."
   ],
   "metadata": {
    "collapsed": false
   }
  },
  {
   "cell_type": "markdown",
   "metadata": {
    "id": "_nhV8PXQriVu"
   },
   "source": [
    "## More advanced tasks to think about\n",
    "\n",
    "Instead of defining each square as a state, use only intersections as states. Now the storage requirement is reduced, but the path length between two intersections can be different. If we use total path length measured as the number of squares as path cost, how can we make sure that BFS and iterative deepening search is optimal? Change the code to do so."
   ]
  },
  {
   "cell_type": "code",
   "execution_count": 31,
   "metadata": {
    "id": "SRZdmof9riVx",
    "executionInfo": {
     "status": "aborted",
     "timestamp": 1709514490470,
     "user_tz": 360,
     "elapsed": 600,
     "user": {
      "displayName": "Christian Melendez",
      "userId": "04539809835687662514"
     }
    },
    "ExecuteTime": {
     "end_time": "2024-03-05T10:11:33.604142600Z",
     "start_time": "2024-03-05T10:11:33.522111200Z"
    }
   },
   "outputs": [],
   "source": [
    "# Your code/answer goes here"
   ]
  },
  {
   "cell_type": "markdown",
   "metadata": {
    "id": "4snSdgNbriVx"
   },
   "source": [
    "Modify your A* search to add weights (see text book) and explore how different weights influence the result."
   ]
  },
  {
   "cell_type": "code",
   "execution_count": 32,
   "metadata": {
    "id": "dDA8Kc9wriVx",
    "executionInfo": {
     "status": "aborted",
     "timestamp": 1709514490470,
     "user_tz": 360,
     "elapsed": 600,
     "user": {
      "displayName": "Christian Melendez",
      "userId": "04539809835687662514"
     }
    },
    "ExecuteTime": {
     "end_time": "2024-03-05T10:11:33.604142600Z",
     "start_time": "2024-03-05T10:11:33.537123700Z"
    }
   },
   "outputs": [],
   "source": [
    "# Your code/answer goes here"
   ]
  },
  {
   "cell_type": "markdown",
   "metadata": {
    "id": "x2_5ARyariVx"
   },
   "source": [
    "What happens if the agent does not know the layout of the maze in advance (i.e., faces an unkown, only partially observable environment)? How does the environment look then (PEAS description)? How would you implement a rational agent to solve the maze? What if the agent still has a GPS device to tell the distance to the goal?"
   ]
  },
  {
   "cell_type": "code",
   "execution_count": 33,
   "metadata": {
    "id": "kWd0HTdOriVx",
    "executionInfo": {
     "status": "aborted",
     "timestamp": 1709514490470,
     "user_tz": 360,
     "elapsed": 599,
     "user": {
      "displayName": "Christian Melendez",
      "userId": "04539809835687662514"
     }
    },
    "ExecuteTime": {
     "end_time": "2024-03-05T10:11:33.604142600Z",
     "start_time": "2024-03-05T10:11:33.552137800Z"
    }
   },
   "outputs": [],
   "source": [
    "# Your code/answer goes here"
   ]
  }
 ],
 "metadata": {
  "kernelspec": {
   "display_name": "Python 3 (ipykernel)",
   "language": "python",
   "name": "python3"
  },
  "language_info": {
   "codemirror_mode": {
    "name": "ipython",
    "version": 3
   },
   "file_extension": ".py",
   "mimetype": "text/x-python",
   "name": "python",
   "nbconvert_exporter": "python",
   "pygments_lexer": "ipython3",
   "version": "3.10.12"
  },
  "colab": {
   "provenance": [
    {
     "file_id": "https://github.com/mhahsler/CS7320-AI/blob/master/Search/Maze.ipynb",
     "timestamp": 1708401790382
    }
   ]
  }
 },
 "nbformat": 4,
 "nbformat_minor": 0
}
